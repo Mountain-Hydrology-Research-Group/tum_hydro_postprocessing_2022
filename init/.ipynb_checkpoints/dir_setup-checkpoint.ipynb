{
 "cells": [
  {
   "cell_type": "code",
   "execution_count": 6,
   "id": "9643ec6f",
   "metadata": {},
   "outputs": [],
   "source": [
    "import numpy as np\n",
    "import os\n",
    "import sys\n",
    "\n",
    "sys.path.insert(0, os.path.abspath(os.path.join('..', 'src')))\n",
    "\n",
    "import config\n",
    "\n",
    "sys.path.remove(os.path.abspath(os.path.join('..', 'src')))"
   ]
  },
  {
   "cell_type": "code",
   "execution_count": 7,
   "id": "88587362",
   "metadata": {},
   "outputs": [],
   "source": [
    "start_year = 2021\n",
    "end_year = 2021"
   ]
  },
  {
   "cell_type": "code",
   "execution_count": 8,
   "id": "b2dee1c4",
   "metadata": {},
   "outputs": [
    {
     "data": {
      "text/plain": [
       "['2021']"
      ]
     },
     "execution_count": 8,
     "metadata": {},
     "output_type": "execute_result"
    }
   ],
   "source": [
    "years = None\n",
    "if (end_year is None):\n",
    "    years = [str(start_year)]\n",
    "else:\n",
    "    years = np.arange(start_year, end_year + 1)\n",
    "    years = [str(year) for year in years]\n",
    "years"
   ]
  },
  {
   "cell_type": "code",
   "execution_count": 9,
   "id": "be2af519",
   "metadata": {},
   "outputs": [],
   "source": [
    "for year in years:    \n",
    "    loc_year_dir_path = os.path.join('..', f'unvented_{year}')\n",
    "    if not os.path.exists(loc_year_dir_path):\n",
    "        os.mkdir(loc_year_dir_path)\n",
    "        os.mkdir(os.path.join(loc_year_dir_path, 'data'))\n",
    "        os.mkdir(os.path.join(loc_year_dir_path, 'notebooks'))\n",
    "        os.mkdir(os.path.join(loc_year_dir_path, 'logs'))"
   ]
  },
  {
   "cell_type": "code",
   "execution_count": null,
   "id": "658c65f7",
   "metadata": {},
   "outputs": [],
   "source": []
  }
 ],
 "metadata": {
  "kernelspec": {
   "display_name": "Python 3",
   "language": "python",
   "name": "python3"
  },
  "language_info": {
   "codemirror_mode": {
    "name": "ipython",
    "version": 3
   },
   "file_extension": ".py",
   "mimetype": "text/x-python",
   "name": "python",
   "nbconvert_exporter": "python",
   "pygments_lexer": "ipython3",
   "version": "3.9.5"
  }
 },
 "nbformat": 4,
 "nbformat_minor": 5
}
