{
 "cells": [
  {
   "cell_type": "code",
   "execution_count": null,
   "id": "80758079",
   "metadata": {},
   "outputs": [],
   "source": [
    "import numpy as np\n",
    "import pandas as pd\n",
    "import sys\n",
    "import os\n",
    "\n",
    "sys.path.insert(0, os.path.abspath(os.path.join('..', '..', 'src')))\n",
    "\n",
    "import config\n",
    "import level_baro_utils\n",
    "\n",
    "sys.path.remove(os.path.abspath(os.path.join('..', '..', 'src')))"
   ]
  },
  {
   "cell_type": "code",
   "execution_count": null,
   "id": "9c306e27",
   "metadata": {},
   "outputs": [],
   "source": [
    "sitecode = 3\n",
    "\n",
    "vented_fn = 'Tuolumne120_324_T15min_20210812.dat'"
   ]
  },
  {
   "cell_type": "code",
   "execution_count": null,
   "id": "829ceaa1",
   "metadata": {},
   "outputs": [],
   "source": [
    "vented_path = os.path.join('..', 'data', vented_fn)"
   ]
  }
 ],
 "metadata": {
  "kernelspec": {
   "display_name": "Python 3",
   "language": "python",
   "name": "python3"
  },
  "language_info": {
   "codemirror_mode": {
    "name": "ipython",
    "version": 3
   },
   "file_extension": ".py",
   "mimetype": "text/x-python",
   "name": "python",
   "nbconvert_exporter": "python",
   "pygments_lexer": "ipython3",
   "version": "3.9.5"
  }
 },
 "nbformat": 4,
 "nbformat_minor": 5
}
