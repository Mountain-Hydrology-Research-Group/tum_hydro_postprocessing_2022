{
 "cells": [
  {
   "cell_type": "markdown",
   "id": "f0bde9bc",
   "metadata": {},
   "source": [
    "# [SITE ] [STARTYEAR - ENDYEAR] Time Series Stitching \n",
    "ANALYST NAME | DATE\n",
    "\n",
    "This notebook documents the steps taken to offset and combine postprocessed (trimmed, barocorrected, quality controlled) level/stage time series from multiple years into a single continuous time series. In particular, this notebook faciliates the following steps:\n",
    "1. Loading the previous published dataset\n",
    "2. Loading manual stage measurements\n",
    "3. Loading postprocessed vented time series\n",
    "4. Loading postprocessed unvented time series\n",
    "5. Offsetting segments such that they agree with the published data and/or manual stage measurements\n",
    "6. Stitching of offset time series into a single time series\n",
    "\n",
    "Once all steps have been completed, a single .csv file with the following quantities will be generated (and will span the entire period from which data was collected). \n",
    "* date and time (UTC)\n",
    "* vented pressure, cm\n",
    "* raw pressure, cm\n",
    "* barocorrected pressure, cm\n",
    "* adjusted stage, cm\n",
    "* estimated discharge, cms\n",
    "* water temperature, degrees C\n",
    "* discharge flag\n",
    "\n",
    "Author of Template and Underlying Code: Joe Ammatelli | (jamma@uw.edu) | July 2022"
   ]
  },
  {
   "cell_type": "markdown",
   "id": "fbfbdd23",
   "metadata": {},
   "source": [
    "## Import Relevant Libraries\n",
    "**Analyst TODO**: Nothing"
   ]
  },
  {
   "cell_type": "code",
   "execution_count": null,
   "id": "a665955f",
   "metadata": {},
   "outputs": [],
   "source": [
    "import os\n",
    "import sys\n",
    "import pandas as pd\n",
    "import matplotlib.pyplot as plt\n",
    "import seaborn as sns\n",
    "import numpy as np\n",
    "from datetime import datetime, timedelta \n",
    "\n",
    "sys.path.insert(0, os.path.abspath(os.path.join('..', '..', 'src')))\n",
    "\n",
    "import config\n",
    "import level_baro_utils\n",
    "import log_utils\n",
    "\n",
    "sys.path.remove(os.path.abspath(os.path.join('..', '..', 'src')))"
   ]
  },
  {
   "cell_type": "markdown",
   "id": "61cae83d",
   "metadata": {},
   "source": [
    "## Choose Plotting Backend\n",
    "**Analyst TODO**:\n",
    "* Choose plotting backend:\n",
    "    - Interactive (recommended): uncomment `%matplotlib notebook` and `FIGSIZE=NONE`; comment out `FIGSIZE = config.FIGSIZE`\n",
    "    - Inline: comment out `%matplotlib notebook` `FIGSIZE=NONE`; uncomment `FIGSIZE = config.FIGSIZE`"
   ]
  },
  {
   "cell_type": "code",
   "execution_count": null,
   "id": "85a1d6af",
   "metadata": {},
   "outputs": [],
   "source": [
    "%matplotlib notebook\n",
    "FIGSIZE=None\n",
    "\n",
    "#FIGSIZE = config.FIGSIZE\n",
    "\n",
    "sns.set_theme()"
   ]
  },
  {
   "cell_type": "markdown",
   "id": "f84a7751",
   "metadata": {},
   "source": [
    "## Specify Site Information\n",
    "**Analyst TODO**:\n",
    "* assign an integer representing the site to the variable `sitecode`. Mappings are as follows (follows from upstream to downstream):\n",
    "    * 0 : Lyell Below Maclure\n",
    "    * 1 : Lyell Above Twin Bridges\n",
    "    * 2 : Dana Fork at Bug Camp\n",
    "    * 3 : Tuolumne River at Highway 120\n",
    "    * 4 : Budd Creek\n",
    "    * 5 : Delaney Above PCT\n",
    "* assign an integer (format 'YYYY') representing the first year of data collection to `start_year`\n",
    "* assign an integer (format 'YYYY') representing the last year of data collection to `end_year`\n",
    "* assign an string (format 'YY-YY') representing the data collection span in years (i.e. `start_year` to `end_year`) to the variable `span`\n",
    "\n",
    "These input parameters are used to automatically retrieve the postprocessed data, populate the correct log file, label any plots with relevant site descriptors, and automatically write output with descriptive names. "
   ]
  },
  {
   "cell_type": "code",
   "execution_count": null,
   "id": "7bd1eae0",
   "metadata": {},
   "outputs": [],
   "source": [
    "# example \n",
    "# sitecode = 2\n",
    "# start_year = 2019\n",
    "# end_year = 2021\n",
    "# span = '18-21'\n",
    "\n",
    "sitecode = 0\n",
    "start_year = 1234\n",
    "end_year = 1234\n",
    "span = ''"
   ]
  },
  {
   "cell_type": "markdown",
   "id": "917db06c",
   "metadata": {},
   "source": [
    "## Load All Data\n",
    "**Analyst TODO**:\n",
    "The vented and unvented data segments are loaded automatically. However, because the previously published data sets and compiled stage data may have nonstandard names and/or table headers, the previoulsy published data and compiled stage data will need to be loaded manually. \n",
    "* Read previously published data set into dataframe\n",
    "* Read compile stage measurements into dataframe"
   ]
  },
  {
   "cell_type": "markdown",
   "id": "b14eb704",
   "metadata": {},
   "source": [
    "### Load Previously Published Data Set\n",
    "**Analyst TODO**:\n",
    "* Make changes as specified below"
   ]
  },
  {
   "cell_type": "code",
   "execution_count": null,
   "id": "8b9c5e1f",
   "metadata": {},
   "outputs": [],
   "source": [
    "# TODO: specify file name (not full path, just name)\n",
    "fn = ''\n",
    "\n",
    "# correct relative path automatically configured\n",
    "prev_path = os.path.join('..', '..', 'compiled_data', 'published', fn)\n",
    "\n",
    "# TODO: change index_col and parse_dates entries as needed\n",
    "prev_df = pd.read_csv(prev_path, index_col=0, parse_dates=[0], infer_datetime_format=True)\n",
    "\n",
    "# TODO: select the \"adjusted stage\" column from the dataframe \n",
    "# will need to check .csv file to see what the column label is\n",
    "prev_stage_ds = prev_df[' adjusted_stage(cm)']\n",
    "\n",
    "# Preview selected series to make sure everything looks alright\n",
    "prev_stage_ds.head()"
   ]
  },
  {
   "cell_type": "markdown",
   "id": "813db9e5",
   "metadata": {},
   "source": [
    "### Load Manual Stage Measurements\n",
    "**Analyst TODO**:\n",
    "* Make changes as specified below (may change depending on how the file is formatted)"
   ]
  },
  {
   "cell_type": "code",
   "execution_count": null,
   "id": "e72b4568",
   "metadata": {},
   "outputs": [],
   "source": [
    "# TODO: specify file name (not full path, just name)\n",
    "fn = ''\n",
    "\n",
    "# correct relative path automatically configured\n",
    "stage_path = os.path.join('..', '..', 'compiled_data', 'stage', fn)\n",
    "\n",
    "# TODO: change parse_dates param as needed\n",
    "# numbers in the list should correspond to the columns in the table with date time data\n",
    "manual_stage_df = pd.read_csv(stage_path, parse_dates=[[1,2]], infer_datetime_format=True)\n",
    "\n",
    "# Perform timezone (PDT --> UTC) and unit (FT --> CM) corrections\n",
    "# TODO: verify timezone of manual stage measurements, adjust offset as needed\n",
    "utc_pdt_timedelta = timedelta(hours=7)\n",
    "manual_stage_df['date_time (pdt)'] += utc_pdt_timedelta\n",
    "manual_stage_df['stage (ft)'] *= level_baro_utils.FT_TO_CM\n",
    "\n",
    "# Create dataframe for stage measurements\n",
    "# TODO: for each entry in the columns dictionary, ensure the lefthand mapping matches the table labels\n",
    "# e.g. if the compile stage table has columns \"date_time (pdt)\" and \"stage (ft)\",\n",
    "# the columns argument should be {'date_time (pdt)':'date_time(UTC)', 'stage (ft)':'stage(cm)'}\n",
    "manual_stage_df.rename(columns={'date_time (pdt)':'date_time(UTC)', 'stage (ft)':'stage(cm)'}, inplace=True)\n",
    "manual_stage_df.set_index('date_time(UTC)', inplace=True)\n",
    "\n",
    "# Select only the manual stage measurements for the site of interest\n",
    "# TODO: modify the indexer into manual_stage_df so that it matches the label of the column for the site label\n",
    "site_manual_stage_df = manual_stage_df[manual_stage_df['site'] == config.SITE_SHORTNAME[sitecode]]\n",
    "site_manual_stage_df.head()"
   ]
  },
  {
   "cell_type": "markdown",
   "id": "f3240bd4",
   "metadata": {},
   "source": [
    "### Load Vented Data\n",
    "**Analyst TODO**: Nothing"
   ]
  },
  {
   "cell_type": "code",
   "execution_count": null,
   "id": "e7a378b1",
   "metadata": {},
   "outputs": [],
   "source": [
    "vented_segments = level_baro_utils.read_vented_segments(sitecode)\n",
    "vented_segments[-1].head()"
   ]
  },
  {
   "cell_type": "markdown",
   "id": "91870e3c",
   "metadata": {},
   "source": [
    "### Load Unvented Data\n",
    "For each year that data is available, load unvented time series data\n",
    "\n",
    "**Analyst TODO**: Nothing"
   ]
  },
  {
   "cell_type": "code",
   "execution_count": null,
   "id": "f9c97f12",
   "metadata": {},
   "outputs": [],
   "source": [
    "unvented_segments = level_baro_utils.read_unvented_segments(sitecode, start_year, end_year)"
   ]
  },
  {
   "cell_type": "markdown",
   "id": "54634d4b",
   "metadata": {},
   "source": [
    "## Plot All Data Together (and develop plan for finding offsets)\n",
    "**Analyst TODO**: Inspect plot, decide how you are going to compute the offsets for each segment."
   ]
  },
  {
   "cell_type": "code",
   "execution_count": null,
   "id": "a0ec387a",
   "metadata": {},
   "outputs": [],
   "source": [
    "level_baro_utils.plot_all(title=f'{config.SITE_LONGNAME[sitecode]}: All Raw Data', \n",
    "                          prev=prev_stage_ds, \n",
    "                          stage=site_manual_stage_df, \n",
    "                          vented_segments=vented_segments, \n",
    "                          unvented_segments=unvented_segments,\n",
    "                          figsize=FIGSIZE)"
   ]
  },
  {
   "cell_type": "markdown",
   "id": "b164e07a",
   "metadata": {},
   "source": [
    "## From left to right, find offset of each segment\n",
    "**Analyst TODO**:\n",
    "For each segment, compute the offset needed so that the time series matches a portion of an overlapping time series (taken to be \"ground truth\") and/or fits the manual stage measurements. \n",
    "* Initialize offsets (to be zero); this way, we can incrimentally observe how the offset time series look\n",
    "* Create a new markdown cell and give a discriptive name, e.g. \"Find offset between published record and vented series\"\n",
    "* Create a new code cell, compute the difference between the time series and a reference (either vented series, previous overlapping record, or manual stage measurements); visualize the difference (to see if it is roughly constant)\n",
    "    - Use `dif_btw_series` to generate a series representing the difference between two series at each step\n",
    "    - Use `dif_btw_stage_series` to generate a series with the difference between a set of manual stage measurements and the corresponding sample from the time series \n",
    "* Create a new code cell; filter out members of the difference series as necessary so that the aggregation of is not biased by outliers\n",
    "* Create a new code cell; reduce the difference time series to a single offset value (mean and/or median are good choices), save in the appropriate entry of the offset data structure\n",
    "* Create a new code cell: plot the time series with offset (along with any other desired time series for comparison); give descriptive title. Data plotting options (what to display):\n",
    "    - prev : previously published record\n",
    "    - stage : manual stage measurements\n",
    "    - vented_segments : all vented segments\n",
    "    - unvented_segments : all unvented segments\n",
    "    - vented_offsets : offsets to apply to vented segments\n",
    "    - unvented offsets : offsets to apply to unvented segments\n",
    "\n",
    "**Strategies**\n",
    "* Start from the past, work toward the present (and use previous records as references)\n",
    "1. try to find offset between previous record and vented; then find different between each unvented segment and the offset vented series\n",
    "2. Fit vented/unvented data to stage measurements"
   ]
  },
  {
   "cell_type": "markdown",
   "id": "ab5c0f6c",
   "metadata": {},
   "source": [
    "### Initialize Offsets"
   ]
  },
  {
   "cell_type": "code",
   "execution_count": null,
   "id": "718e6c8f",
   "metadata": {},
   "outputs": [],
   "source": [
    "vented_offsets, unvented_offsets = level_baro_utils.initialize_offsets(vented_segments, unvented_segments)"
   ]
  },
  {
   "cell_type": "markdown",
   "id": "db8a1f46",
   "metadata": {},
   "source": [
    "### Sample Series Differencing"
   ]
  },
  {
   "cell_type": "code",
   "execution_count": null,
   "id": "56659a37",
   "metadata": {},
   "outputs": [],
   "source": [
    "# find difference between segment and reference (another series or manual stage measurements)\n",
    "# example \n",
    "# series1 = prev_stage_ds\n",
    "# series2 = vented_segments[0]['vented_pressure(cm)']\n",
    "series1 = None\n",
    "series2 = None\n",
    "\n",
    "dif = level_baro_utils.dif_btw_series(series1, series2)\n",
    "\n",
    "# visualize differene time series (ideally, it is roughly constant with some noise)\n",
    "plt.figure()\n",
    "dif.plot()\n",
    "plt.title('series1 - series2')"
   ]
  },
  {
   "cell_type": "code",
   "execution_count": null,
   "id": "fe80d319",
   "metadata": {},
   "outputs": [],
   "source": [
    "# choose a suitable method for reducing the difference series to a single value (mean, median)\n",
    "# filter outliers as necessary before reducing\n",
    "# save to appropriate place in offset data structure\n",
    "\n",
    "# example\n",
    "# vented_offsets[0] = dif[dif > 2.5].mean()"
   ]
  },
  {
   "cell_type": "code",
   "execution_count": null,
   "id": "263006ca",
   "metadata": {
    "scrolled": true
   },
   "outputs": [],
   "source": [
    "# visualize offset series along with any othe desired data\n",
    "# TODO: pass arguments for data you want to visualize, add descriptive title\n",
    "# example:\n",
    "\n",
    "# level_baro_utils.plot_all(title=f'{config.SITE_LONGNAME[sitecode]}: Offset Vented Segment 0',\n",
    "#                           prev=prev_stage_ds, \n",
    "#                           vented_segments=vented_segments, \n",
    "#                           vented_offsets=vented_offsets)\n",
    "\n",
    "level_baro_utils.plot_all(title=f'{config.SITE_LONGNAME[sitecode]}: <Put descriptive title here>')"
   ]
  },
  {
   "cell_type": "markdown",
   "id": "b8918d33",
   "metadata": {},
   "source": [
    "### Stage Series Differencing"
   ]
  },
  {
   "cell_type": "code",
   "execution_count": null,
   "id": "e1113578",
   "metadata": {},
   "outputs": [],
   "source": [
    "# find difference between segment and reference (another series or manual stage measurements)\n",
    "# example \n",
    "# series1 = site_manual_stage_df['stage(cm)']\n",
    "# series2 = unvented_segments[2021][0]['barocorrected_pressure(cm)']\n",
    "\n",
    "series1 = None\n",
    "series2 = None\n",
    "\n",
    "dif = level_baro_utils.dif_btw_stage_series(series1, series2)\n",
    "\n",
    "plt.figure()\n",
    "dif.plot(marker='.', linestyle = 'None')\n",
    "plt.title('series1 - series2')\n",
    "\n",
    "dif"
   ]
  },
  {
   "cell_type": "code",
   "execution_count": null,
   "id": "707a08f6",
   "metadata": {},
   "outputs": [],
   "source": [
    "# choose a suitable method for reducing the difference series to a single value (mean, median)\n",
    "# filter outliers as necessary before reducing\n",
    "# save to appropriate place in offset data structure\n",
    "\n",
    "# example\n",
    "# unvented_offsets[2021][0] = dif[dif < 200].median()"
   ]
  },
  {
   "cell_type": "code",
   "execution_count": null,
   "id": "918936cb",
   "metadata": {},
   "outputs": [],
   "source": [
    "# visualize offset series along with any othe desired data\n",
    "# example\n",
    "# level_baro_utils.plot_all(title=f'{config.SITE_LONGNAME[sitecode]}: Offset Vented Series, Offset Unvented Segments 2019-2021 Segment 0',\n",
    "#                           prev=prev_stage_ds,\n",
    "#                           stage=site_manual_stage_df,\n",
    "#                           vented_segments=vented_segments, \n",
    "#                           vented_offsets=vented_offsets, \n",
    "#                           unvented_segments=unvented_segments, \n",
    "#                           unvented_offsets=unvented_offsets)\n",
    "\n",
    "level_baro_utils.plot_all(title=f'{config.SITE_LONGNAME[sitecode]}: <Put descriptive title here>')"
   ]
  },
  {
   "cell_type": "markdown",
   "id": "4fe59288",
   "metadata": {},
   "source": [
    "## Manually Apply Corrections as Needed\n",
    "**Analyst TODO**:\n",
    "* Manually change offset values if computed values are clearly incorrect"
   ]
  },
  {
   "cell_type": "markdown",
   "id": "6a8140b1",
   "metadata": {},
   "source": [
    "## Create time series for entire period: select segments to use for time series, add offsets\n",
    "**Analyst TODO**:\n",
    "* Specify which segments to string together\n",
    "    - create a list of lists; for each inner list, provide: segment, when to start using the segment in the stitched series, and the offset\n",
    "    - e.g.: ```segments = [[vented_segments[0], vented_segments[0].index[0], vented_offsets[0]],[unvented_segments[2019][0], unvented_segments[2019][0].index[0], unvented_offsets[2019][0]],[unvented_segments[2021][0], unvented_segments[2021][0].index[0], unvented_offsets[2021][0]],[unvented_segments[2021][1], unvented_segments[2021][1].index[0],unvented_offsets[2021][1]]] ```corresponds to using the vented time series for the first segment of the stitched time series (from the beginning of the vented record to the beginning of next segment), using the 0th segment of the unvented 2019 data for the second segment of the stitched time series (from the start of the 2019 segment 0 record to the start of the next record) and so forth). \n",
    "          \n",
    "Once the segments are specified, they can be automatically joined using `level_baro_utils.stitch_timeseries` and passing the segments list"
   ]
  },
  {
   "cell_type": "code",
   "execution_count": null,
   "id": "1e05ab23",
   "metadata": {},
   "outputs": [],
   "source": [
    "# example\n",
    "# segments = [[vented_segments[0], vented_segments[0].index[0], vented_offsets[0]],\n",
    "#             [unvented_segments[2019][0], unvented_segments[2019][0].index[0], unvented_offsets[2019][0]],\n",
    "#             [unvented_segments[2021][0], unvented_segments[2021][0].index[0], unvented_offsets[2021][0]],\n",
    "#             [unvented_segments[2021][1], unvented_segments[2021][1].index[0], unvented_offsets[2021][1]]]\n",
    "\n",
    "segments = []\n",
    "\n",
    "stitched_df = level_baro_utils.stitch_timeseries(segments)"
   ]
  },
  {
   "cell_type": "markdown",
   "id": "3d050174",
   "metadata": {},
   "source": [
    "### Inspect Stitched Time Series"
   ]
  },
  {
   "cell_type": "code",
   "execution_count": null,
   "id": "53311c27",
   "metadata": {},
   "outputs": [],
   "source": [
    "plt.figure()\n",
    "plt.plot(stitched_df['adjusted_stage(cm)'])\n",
    "plt.xticks(rotation=30)\n",
    "plt.ylabel('cm')\n",
    "plt.title(f'{config.SITE_LONGNAME[sitecode]}:Stitched Time Series')\n",
    "\n",
    "stitched_df.head()"
   ]
  },
  {
   "cell_type": "markdown",
   "id": "ac92710c",
   "metadata": {},
   "source": [
    "## Generate discharge time series using rating curve\n",
    "**Analyst TODO**: Ensure rating curve up to data (update in config if necessary), inspect result"
   ]
  },
  {
   "cell_type": "code",
   "execution_count": null,
   "id": "da99cc2b",
   "metadata": {},
   "outputs": [],
   "source": [
    "stitched_df['estimated_discharge(cms)'] = level_baro_utils.compute_discharge(stitched_df['adjusted_stage(cm)'], sitecode)"
   ]
  },
  {
   "cell_type": "code",
   "execution_count": null,
   "id": "215944f5",
   "metadata": {},
   "outputs": [],
   "source": [
    "level_baro_utils.plot_discharge(stitched_df, sitecode)\n",
    "\n",
    "stitched_df.head()"
   ]
  },
  {
   "cell_type": "markdown",
   "id": "f4d3f42e",
   "metadata": {},
   "source": [
    "## Write Output to File\n",
    "**Analyst TODO**: Nothing to change"
   ]
  },
  {
   "cell_type": "code",
   "execution_count": null,
   "id": "1ec43329",
   "metadata": {},
   "outputs": [],
   "source": [
    "level_baro_utils.save_final_data(stitched_df, sitecode, start_year, end_year)"
   ]
  }
 ],
 "metadata": {
  "kernelspec": {
   "display_name": "Python 3",
   "language": "python",
   "name": "python3"
  },
  "language_info": {
   "codemirror_mode": {
    "name": "ipython",
    "version": 3
   },
   "file_extension": ".py",
   "mimetype": "text/x-python",
   "name": "python",
   "nbconvert_exporter": "python",
   "pygments_lexer": "ipython3",
   "version": "3.9.5"
  }
 },
 "nbformat": 4,
 "nbformat_minor": 5
}
