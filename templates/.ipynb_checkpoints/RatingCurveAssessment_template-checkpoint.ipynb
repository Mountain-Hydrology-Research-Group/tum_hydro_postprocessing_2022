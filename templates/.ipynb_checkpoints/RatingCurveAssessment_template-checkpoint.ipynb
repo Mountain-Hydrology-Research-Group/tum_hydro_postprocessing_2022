{
 "cells": [
  {
   "cell_type": "markdown",
   "id": "28ac87b8",
   "metadata": {},
   "source": [
    "# Rating Curve Assessment\n",
    "ANALYST NAME | DATE\n",
    "\n",
    "This notebook is used to plot stage-Q data from the period with unprocessed levelogger data against the previously developed rating curves to see if the rating curves still capture the relationship between stage and Q properly (i.e. check if the rating curves need to be updated). \n",
    "\n",
    "Author of Template and Underlying Code: Joe Ammatelli | (jamma@uw.edu) | August 2022"
   ]
  },
  {
   "cell_type": "markdown",
   "id": "5221a7a7",
   "metadata": {},
   "source": [
    "## Import Libraries\n",
    "**Analyst TODO**: Run cell"
   ]
  },
  {
   "cell_type": "code",
   "execution_count": null,
   "id": "3dc76a99",
   "metadata": {},
   "outputs": [],
   "source": [
    "import numpy as np\n",
    "import pandas as pd\n",
    "import matplotlib.pyplot as plt\n",
    "import os\n",
    "import seaborn as sns\n",
    "import sys\n",
    "\n",
    "sys.path.insert(0, os.path.abspath(os.path.join('..', 'src')))\n",
    "\n",
    "import config\n",
    "\n",
    "sys.path.remove(os.path.abspath(os.path.join('..', 'src')))"
   ]
  },
  {
   "cell_type": "markdown",
   "id": "4dfc81b1",
   "metadata": {},
   "source": [
    "## Configure Plotting Preferences\n",
    "**Analyst TODO:**\n",
    "* Choose plotting backend:\n",
    "    - Interactive (recommended): uncomment `%matplotlib notebook` and `FIGSIZE=NONE`; comment out `FIGSIZE = config.FIGSIZE`\n",
    "    - Inline: comment out `%matplotlib notebook` `FIGSIZE=NONE`; uncomment `FIGSIZE = config.FIGSIZE`"
   ]
  },
  {
   "cell_type": "code",
   "execution_count": null,
   "id": "a31164a5",
   "metadata": {},
   "outputs": [],
   "source": [
    "#%matplotlib notebook\n",
    "sns.set_theme()"
   ]
  },
  {
   "cell_type": "markdown",
   "id": "010d1f8f",
   "metadata": {},
   "source": [
    "## Define Utility Functions\n",
    "**Analyst TODO:** Run cells"
   ]
  },
  {
   "cell_type": "code",
   "execution_count": null,
   "id": "2f297f06",
   "metadata": {},
   "outputs": [],
   "source": [
    "def plot_rating_curve(ax, site, hrange):\n",
    "    ax.set_title('Rating Curve for ' + config.SITE_LONGNAME[site])\n",
    "    ax.set_ylabel('Stage (m)')\n",
    "    ax.set_xlabel('Q (m^3s^-1)')\n",
    "    \n",
    "    h = np.linspace(hrange[0], hrange[1], 100)\n",
    "    Q = [config.RATING_CURVES[site](hi) for hi in h]\n",
    "    \n",
    "    ax.plot(Q, h, label='rating curve')\n",
    "    ax.legend()"
   ]
  },
  {
   "cell_type": "code",
   "execution_count": null,
   "id": "962609df",
   "metadata": {},
   "outputs": [],
   "source": [
    "def plot_site_stageQ(ax, site, stageQ, offset=0):\n",
    "    site_stageQ = stageQ.loc[stageQ['Site Name'] == config.SITE_SHORTNAME[site]]    \n",
    "    ax.scatter(site_stageQ['Measured Q (cms)'], site_stageQ['Stage (m)'] - offset, c='black', label='manual measurements')\n",
    "    ax.legend()"
   ]
  },
  {
   "cell_type": "markdown",
   "id": "61945b0b",
   "metadata": {},
   "source": [
    "## Load Stage/Q Data (all sites) for given span\n",
    "**Analyst TODO**:\n",
    "* Read data for each year of interest: add filename string to `fns` for each site\n",
    "* Combine datasets into one dataframe\n",
    "* convert units as necessary"
   ]
  },
  {
   "cell_type": "code",
   "execution_count": null,
   "id": "2141987e",
   "metadata": {},
   "outputs": [],
   "source": [
    "# Read data for each year of interest\n",
    "fns = []  # add file names here (not full path, just name of file)\n",
    "dfs = []\n",
    "\n",
    "for fn in fns:\n",
    "    path = os.path.join('..', 'compiled_data', 'stageQ', fn)\n",
    "    dfs.append(pd.read_csv(path))\n",
    "\n",
    "# Combine datasets into one dataframe\n",
    "stageQ = pd.concat(dfs, ignore_index=True)\n",
    "\n",
    "# convert units as necessary\n",
    "FT_TO_M = 0.3048\n",
    "stageQ = stageQ.rename(columns={'Stage (ft)' :'Stage (m)'})\n",
    "stageQ['Stage (m)'] *= FT_TO_M\n",
    "\n",
    "CFS_TO_CMS = 0.028316847\n",
    "stageQ = stageQ.rename(columns={'Measured Q (cfs)' :'Measured Q (cms)'})\n",
    "stageQ['Measured Q (cms)'] *= CFS_TO_CMS\n",
    "\n",
    "# view dataframe\n",
    "stageQ"
   ]
  },
  {
   "cell_type": "markdown",
   "id": "1536d56e",
   "metadata": {},
   "source": [
    "## For each site, plot rating curve and data points\n",
    "**Analyst TODO** Plot site of interest (or for which valid rating curves exist)\n",
    "* List the numeric site codes you wish to plot in the `sites` list\n",
    "    * 0 : Lyell Below Maclure\n",
    "    * 1 : Lyell Above Twin Bridges\n",
    "    * 2 : Dana Fork at Bug Camp\n",
    "    * 3 : Tuolumne River at Highway 120\n",
    "    * 4 : Budd Creek\n",
    "    * 5 : Delaney Above PCT\n",
    "* For each site, add a tuple to the hranges list representing the lower and upper bound of h ranges to plot. The i'th entry of hranges should correspond to the i'th entry of sites"
   ]
  },
  {
   "cell_type": "code",
   "execution_count": null,
   "id": "4350d862",
   "metadata": {},
   "outputs": [],
   "source": [
    "# add sites here\n",
    "# e.g. sites = [0, 1, 3]\n",
    "sites = []\n",
    "\n",
    "# add h ranges here\n",
    "# e.g. hranges = [(1.8, 2.5), (0, 2), (0, 3)]\n",
    "hranges = []\n",
    "\n",
    "for site, hrange in zip(sites, hranges):\n",
    "    fig, ax = plt.subplots()\n",
    "    plot_rating_curve(ax, site, hrange)\n",
    "    plot_site_stageQ(ax, site, stageQ)"
   ]
  },
  {
   "cell_type": "markdown",
   "id": "b26cfc79",
   "metadata": {},
   "source": [
    "## Conduct Site Specific Analysis\n",
    "**Analyst TODO**: Complete site specific analysis as necessary"
   ]
  }
 ],
 "metadata": {
  "kernelspec": {
   "display_name": "Python 3",
   "language": "python",
   "name": "python3"
  },
  "language_info": {
   "codemirror_mode": {
    "name": "ipython",
    "version": 3
   },
   "file_extension": ".py",
   "mimetype": "text/x-python",
   "name": "python",
   "nbconvert_exporter": "python",
   "pygments_lexer": "ipython3",
   "version": "3.9.5"
  }
 },
 "nbformat": 4,
 "nbformat_minor": 5
}
