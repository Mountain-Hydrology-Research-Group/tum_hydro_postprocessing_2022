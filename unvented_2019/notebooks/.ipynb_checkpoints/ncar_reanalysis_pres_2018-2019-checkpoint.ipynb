{
 "cells": [
  {
   "cell_type": "markdown",
   "metadata": {
    "id": "xCKynxGU8lyU"
   },
   "source": [
    "# Preparing NCAR Reanalysis Pressure for 2018-2019\n",
    "\n",
    "This notebook was used to join NCAR reanalysis surface pressure files for use in barometric correction for the 2019 Tuolumne stream/hydroclimate data. 2018 and 2019 surface pressure data was retrieved from:\n",
    "\n",
    "https://psl.noaa.gov/cgi-bin/db_search/DBListFiles.pl?did=195&tid=94905&vid=28"
   ]
  },
  {
   "cell_type": "code",
   "execution_count": 1,
   "metadata": {
    "executionInfo": {
     "elapsed": 1164,
     "status": "ok",
     "timestamp": 1632522572640,
     "user": {
      "displayName": "Joseph Ammatelli",
      "photoUrl": "https://lh3.googleusercontent.com/a/default-user=s64",
      "userId": "05782787079809276821"
     },
     "user_tz": 420
    },
    "id": "8EXPuk0U5SdY"
   },
   "outputs": [
    {
     "ename": "NameError",
     "evalue": "name 'sys' is not defined",
     "output_type": "error",
     "traceback": [
      "\u001b[0;31m---------------------------------------------------------------------------\u001b[0m",
      "\u001b[0;31mNameError\u001b[0m                                 Traceback (most recent call last)",
      "\u001b[0;32m<ipython-input-1-5000318f8efe>\u001b[0m in \u001b[0;36m<module>\u001b[0;34m\u001b[0m\n\u001b[1;32m      5\u001b[0m \u001b[0;32mimport\u001b[0m \u001b[0mnetCDF4\u001b[0m\u001b[0;34m\u001b[0m\u001b[0;34m\u001b[0m\u001b[0m\n\u001b[1;32m      6\u001b[0m \u001b[0;34m\u001b[0m\u001b[0m\n\u001b[0;32m----> 7\u001b[0;31m \u001b[0msys\u001b[0m\u001b[0;34m.\u001b[0m\u001b[0mpath\u001b[0m\u001b[0;34m.\u001b[0m\u001b[0minsert\u001b[0m\u001b[0;34m(\u001b[0m\u001b[0;36m0\u001b[0m\u001b[0;34m,\u001b[0m \u001b[0mos\u001b[0m\u001b[0;34m.\u001b[0m\u001b[0mpath\u001b[0m\u001b[0;34m.\u001b[0m\u001b[0mabspath\u001b[0m\u001b[0;34m(\u001b[0m\u001b[0mos\u001b[0m\u001b[0;34m.\u001b[0m\u001b[0mpath\u001b[0m\u001b[0;34m.\u001b[0m\u001b[0mjoin\u001b[0m\u001b[0;34m(\u001b[0m\u001b[0;34m'..'\u001b[0m\u001b[0;34m,\u001b[0m \u001b[0;34m'..'\u001b[0m\u001b[0;34m,\u001b[0m \u001b[0;34m'src'\u001b[0m\u001b[0;34m)\u001b[0m\u001b[0;34m)\u001b[0m\u001b[0;34m)\u001b[0m\u001b[0;34m\u001b[0m\u001b[0;34m\u001b[0m\u001b[0m\n\u001b[0m\u001b[1;32m      8\u001b[0m \u001b[0;34m\u001b[0m\u001b[0m\n\u001b[1;32m      9\u001b[0m \u001b[0;32mimport\u001b[0m \u001b[0mconfig\u001b[0m\u001b[0;34m\u001b[0m\u001b[0;34m\u001b[0m\u001b[0m\n",
      "\u001b[0;31mNameError\u001b[0m: name 'sys' is not defined"
     ]
    }
   ],
   "source": [
    "import numpy as np\n",
    "import pandas as pd\n",
    "import matplotlib.pyplot as plt\n",
    "import xarray as xr\n",
    "import netCDF4\n",
    "import sys\n",
    "\n",
    "sys.path.insert(0, os.path.abspath(os.path.join('..', '..', 'src')))\n",
    "\n",
    "import config\n",
    "import level_baro_utils\n",
    "\n",
    "sys.path.remove(os.path.abspath(os.path.join('..', '..', 'src')))"
   ]
  },
  {
   "cell_type": "code",
   "execution_count": null,
   "metadata": {},
   "outputs": [],
   "source": [
    "# TODO: generalize\n",
    "p1_path = '../data/ncar_reanalysis/pres.sfc.2018.nc'\n",
    "p2_path = '../data/ncar_reanalysis/pres.sfc.2019.nc'\n",
    "\n",
    "# sea level pressure (all lat/lon)\n",
    "p1_sl_path = '../data/ncar_reanalysis/slp.2018.nc'\n",
    "p2_sl_path = '../data/ncar_reanalysis/slp.2019.nc'\n",
    "\n",
    "# surface temperature (all lat/lon)\n",
    "st1_path = '../data/ncar_reanalysis/air.sig995.2018.nc'\n",
    "st2_path = '../data/ncar_reanalysis/air.sig995.2019.nc'\n",
    "\n",
    "# height\n",
    "hgt_path = '../data/ncar_reanalysis/hgt.sfc.nc'"
   ]
  },
  {
   "cell_type": "markdown",
   "metadata": {
    "id": "S6Rv8-nl5YHE"
   },
   "source": [
    "### Load Data"
   ]
  },
  {
   "cell_type": "code",
   "execution_count": null,
   "metadata": {
    "executionInfo": {
     "elapsed": 2607,
     "status": "ok",
     "timestamp": 1632522625242,
     "user": {
      "displayName": "Joseph Ammatelli",
      "photoUrl": "https://lh3.googleusercontent.com/a/default-user=s64",
      "userId": "05782787079809276821"
     },
     "user_tz": 420
    },
    "id": "zFhONQAq57ud"
   },
   "outputs": [],
   "source": [
    "p1_global_ds = xr.open_dataset(p1_path)\n",
    "p2_global_ds = xr.open_dataset(p2_path)"
   ]
  },
  {
   "cell_type": "code",
   "execution_count": null,
   "metadata": {
    "colab": {
     "base_uri": "https://localhost:8080/",
     "height": 396
    },
    "executionInfo": {
     "elapsed": 162,
     "status": "ok",
     "timestamp": 1632522639495,
     "user": {
      "displayName": "Joseph Ammatelli",
      "photoUrl": "https://lh3.googleusercontent.com/a/default-user=s64",
      "userId": "05782787079809276821"
     },
     "user_tz": 420
    },
    "id": "pmi5LkfY7m76",
    "outputId": "1360bc58-943e-4314-f8fd-d182b02046eb"
   },
   "outputs": [],
   "source": [
    "p1_global_ds"
   ]
  },
  {
   "cell_type": "markdown",
   "metadata": {
    "id": "wyyhlXpl5afK"
   },
   "source": [
    "### Isolate Data for Desired Lat/Long\n",
    "\n",
    "Can view the range of lat/long by examining xarray."
   ]
  },
  {
   "cell_type": "code",
   "execution_count": null,
   "metadata": {
    "id": "Gb3cJ8P76QZr"
   },
   "outputs": [],
   "source": [
    "p1 = p1_global_ds.pres.sel(lat=config.NCAR_TUM_LAT, lon=config.NCAR_TUM_LON)\n",
    "p2 = p2_global_ds.pres.sel(lat=config.NCAR_TUM_LAT, lon=config.NCAR_TUM_LON)"
   ]
  },
  {
   "cell_type": "markdown",
   "metadata": {
    "id": "P2Sb-KIJ5vVx"
   },
   "source": [
    "### Plot Data Side By Side"
   ]
  },
  {
   "cell_type": "code",
   "execution_count": null,
   "metadata": {
    "colab": {
     "base_uri": "https://localhost:8080/",
     "height": 332
    },
    "executionInfo": {
     "elapsed": 2050,
     "status": "ok",
     "timestamp": 1631906312367,
     "user": {
      "displayName": "Joseph Ammatelli",
      "photoUrl": "https://lh3.googleusercontent.com/a/default-user=s64",
      "userId": "05782787079809276821"
     },
     "user_tz": 420
    },
    "id": "KPEHo6pF7KJw",
    "outputId": "52bc7421-f681-4175-9e11-365b7e287a5d"
   },
   "outputs": [],
   "source": [
    "p1.plot()\n",
    "p2.plot()"
   ]
  },
  {
   "cell_type": "markdown",
   "metadata": {
    "id": "L5HZDGTh5yUR"
   },
   "source": [
    "### Combine the Data"
   ]
  },
  {
   "cell_type": "code",
   "execution_count": null,
   "metadata": {
    "id": "_N3zf7Je7de3"
   },
   "outputs": [],
   "source": [
    "p1p2 = xr.merge([p1, p2])\n",
    "p1p2.pres"
   ]
  },
  {
   "cell_type": "markdown",
   "metadata": {
    "id": "vI1EdMYq6J2T"
   },
   "source": [
    "### Inspect Result"
   ]
  },
  {
   "cell_type": "code",
   "execution_count": null,
   "metadata": {
    "colab": {
     "base_uri": "https://localhost:8080/",
     "height": 332
    },
    "executionInfo": {
     "elapsed": 522,
     "status": "ok",
     "timestamp": 1631906322826,
     "user": {
      "displayName": "Joseph Ammatelli",
      "photoUrl": "https://lh3.googleusercontent.com/a/default-user=s64",
      "userId": "05782787079809276821"
     },
     "user_tz": 420
    },
    "id": "Iq3t_1_Z78RV",
    "outputId": "64392154-bfc3-4162-a5c5-0f5e98dc4188"
   },
   "outputs": [],
   "source": [
    "p1p2.pres.plot()\n",
    "plt.ylabel('Pa')"
   ]
  },
  {
   "cell_type": "markdown",
   "metadata": {},
   "source": [
    "### Apply Hypsometric Equation"
   ]
  },
  {
   "cell_type": "markdown",
   "metadata": {},
   "source": [
    "#### 1. Use Sea Level Data and Hypsometric to Solve for Pixel Elevation"
   ]
  },
  {
   "cell_type": "markdown",
   "metadata": {},
   "source": [
    "1.1 Load supplementary Data"
   ]
  },
  {
   "cell_type": "code",
   "execution_count": null,
   "metadata": {},
   "outputs": [],
   "source": [
    "# load sea level data\n",
    "p1_sl_global_ds = xr.open_dataset(p1_sl_path)\n",
    "p2_sl_global_ds = xr.open_dataset(p2_sl_path)\n",
    "\n",
    "st1_global_ds = xr.open_dataset(st1_path)\n",
    "st2_global_ds = xr.open_dataset(st2_path)\n",
    "\n",
    "hgt_ds = xr.open_dataset(hgt_path)"
   ]
  },
  {
   "cell_type": "markdown",
   "metadata": {},
   "source": [
    "1.2 Isolate Pixel Data"
   ]
  },
  {
   "cell_type": "code",
   "execution_count": null,
   "metadata": {},
   "outputs": [],
   "source": [
    "p1_sl = p1_sl_global_ds.slp.sel(lat=config.NCAR_TUM_LAT, lon=config.NCAR_TUM_LON)\n",
    "p2_sl = p2_sl_global_ds.slp.sel(lat=config.NCAR_TUM_LAT, lon=config.NCAR_TUM_LON)\n",
    "\n",
    "st1 = st1_global_ds.air.sel(lat=config.NCAR_TUM_LAT, lon=config.NCAR_TUM_LON)\n",
    "st2 = st2_global_ds.air.sel(lat=config.NCAR_TUM_LAT, lon=config.NCAR_TUM_LON)\n",
    "\n",
    "hgt = hgt_ds.hgt.sel(lat=config.NCAR_TUM_LAT, lon=config.NCAR_TUM_LON)"
   ]
  },
  {
   "cell_type": "markdown",
   "metadata": {},
   "source": [
    "1.3 Join Series Into Large Series"
   ]
  },
  {
   "cell_type": "code",
   "execution_count": null,
   "metadata": {},
   "outputs": [],
   "source": [
    "p1p2_sl = xr.merge([p1_sl , p2_sl])\n",
    "st1st2 = xr.merge([st1, st2])"
   ]
  },
  {
   "cell_type": "markdown",
   "metadata": {},
   "source": [
    "1.4 Inspect series, pay special attention to units"
   ]
  },
  {
   "cell_type": "code",
   "execution_count": null,
   "metadata": {},
   "outputs": [],
   "source": [
    "p1p2_sl.slp.plot()\n",
    "p1p2_sl.slp"
   ]
  },
  {
   "cell_type": "code",
   "execution_count": null,
   "metadata": {},
   "outputs": [],
   "source": [
    "st1st2.air.plot()\n",
    "st1st2.air"
   ]
  },
  {
   "cell_type": "markdown",
   "metadata": {},
   "source": [
    "1.5 Use Hypsometric to Solve for Height of Pixel Surface"
   ]
  },
  {
   "cell_type": "code",
   "execution_count": null,
   "metadata": {},
   "outputs": [],
   "source": [
    "R = 8.31446261815324\n",
    "g = 9.80665\n",
    "lr = 6.5\n",
    "\n",
    "#z = (R * tum_st_18_19.air * np.log(tum_pres_sl_18_19.slp / tum_pres_18_19.pres)) / (g) / (1 - (R * lr * np.log(tum_pres_sl_18_19.slp / tum_pres_18_19.pres) / (2*g)))\n",
    "z = (29.3255131965 * st1st2.air * np.log(p1p2_sl.slp / p1p2.pres)) / (1 - (29.3255131965 * lr * (10**-3) * np.log(p1p2_sl.slp / p1p2.pres) / (2)))\n",
    "print(np.mean(z))"
   ]
  },
  {
   "cell_type": "markdown",
   "metadata": {},
   "source": [
    "1.6 Compare Geopotential Height with Elevation found using Hypsometric Height"
   ]
  },
  {
   "cell_type": "code",
   "execution_count": null,
   "metadata": {},
   "outputs": [],
   "source": [
    "tum_hgt"
   ]
  },
  {
   "cell_type": "markdown",
   "metadata": {},
   "source": [
    "1.7 Apply Hypsometric Equation Using Elevation Data of Tuolumne and Pixel"
   ]
  },
  {
   "cell_type": "code",
   "execution_count": null,
   "metadata": {},
   "outputs": [],
   "source": [
    "h_tum = 2627  # h2, m\n",
    "h_pixel = 993  # h1, m\n",
    "h = h_tum - h_pixel  # m\n",
    "R = 8.31446261815324\n",
    "g = 9.80665\n",
    "P1 = p1p2\n",
    "lapse_rate = -6.5 # C/km\n",
    "T = st1st2.air + (lapse_rate * (h / 10**3) / 2)\n",
    "\n",
    "#p2 = p1 * np.exp((-1 * h * g) / (R * T))\n",
    "P2 = P1 * np.exp(0.0341 * (-1 * h) / (T))\n",
    "\n",
    "P2"
   ]
  },
  {
   "cell_type": "markdown",
   "metadata": {},
   "source": [
    "### Convert Pressure Data to cm H20"
   ]
  },
  {
   "cell_type": "code",
   "execution_count": null,
   "metadata": {},
   "outputs": [],
   "source": [
    "P2 *= level_baro_utils.PA_TO_CM\n",
    "p1p2 *= level_baro_utils.PA_TO_CM"
   ]
  },
  {
   "cell_type": "code",
   "execution_count": null,
   "metadata": {},
   "outputs": [],
   "source": [
    "P2.columns = config.NCAR_BARO_HEADER\n",
    "p1p2.columns = config.NCAR_BARO_HEADER"
   ]
  },
  {
   "cell_type": "markdown",
   "metadata": {},
   "source": [
    "### Save Data"
   ]
  },
  {
   "cell_type": "code",
   "execution_count": null,
   "metadata": {},
   "outputs": [],
   "source": [
    "P2.to_netcdf('../data/ncar_reanalysis/hypso_pres.sfc.2018-2019.nc')\n",
    "p1p2.to_netcdf('../data/ncar_reanalysis/pres.sfc.2018-2019.nc')"
   ]
  }
 ],
 "metadata": {
  "colab": {
   "authorship_tag": "ABX9TyMPXdi6W7ZIH91gcvwhNBA7",
   "collapsed_sections": [],
   "name": "NCARreanalysis_pres_2018-2019.ipynb",
   "provenance": []
  },
  "kernelspec": {
   "display_name": "Python 3",
   "language": "python",
   "name": "python3"
  },
  "language_info": {
   "codemirror_mode": {
    "name": "ipython",
    "version": 3
   },
   "file_extension": ".py",
   "mimetype": "text/x-python",
   "name": "python",
   "nbconvert_exporter": "python",
   "pygments_lexer": "ipython3",
   "version": "3.9.5"
  }
 },
 "nbformat": 4,
 "nbformat_minor": 1
}
