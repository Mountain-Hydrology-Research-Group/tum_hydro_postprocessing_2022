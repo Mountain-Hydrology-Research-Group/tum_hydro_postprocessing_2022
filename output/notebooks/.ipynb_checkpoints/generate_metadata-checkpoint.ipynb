{
 "cells": [
  {
   "cell_type": "markdown",
   "id": "261d24cc",
   "metadata": {},
   "source": [
    "# Generate Metadata"
   ]
  },
  {
   "cell_type": "code",
   "execution_count": 42,
   "id": "3162dc77",
   "metadata": {},
   "outputs": [],
   "source": [
    "import os\n",
    "import sys\n",
    "\n",
    "sys.path.insert(0, os.path.abspath(os.path.join('..', '..', 'src')))\n",
    "\n",
    "import config\n",
    "\n",
    "sys.path.remove(os.path.abspath(os.path.join('..', '..', 'src')))"
   ]
  },
  {
   "cell_type": "markdown",
   "id": "939b93a4",
   "metadata": {},
   "source": [
    "## Section Boilerplate"
   ]
  },
  {
   "cell_type": "markdown",
   "id": "e6c8cdd9",
   "metadata": {},
   "source": [
    "### Header"
   ]
  },
  {
   "cell_type": "code",
   "execution_count": 43,
   "id": "772bc828",
   "metadata": {},
   "outputs": [],
   "source": [
    "header = '''** Metadata for {time_series_fn}\n",
    "** Contact: Jessica D. Lundquist (jdlund@uw.edu), University of Washington\n",
    "** Updated: {update_date}\n",
    "** Title: {verbose_name} stage, temperature, and discharge\n",
    "** PI:  Jessica D. Lundquist (jdlund@uw.edu), University of Washington\n",
    "** Funding:  National Science Foundation, CBET-0729830, and NASA Grant-NNX15AB29G'''"
   ]
  },
  {
   "cell_type": "markdown",
   "id": "14b70b5a",
   "metadata": {},
   "source": [
    "### Summary"
   ]
  },
  {
   "cell_type": "code",
   "execution_count": 44,
   "id": "3eea2cd5",
   "metadata": {},
   "outputs": [],
   "source": [
    "summary = '''** Summary:\n",
    "Half-hourly recordings of raw pressure (in cm of water), water pressure (in cm of water, with \n",
    "atmospheric pressure removed), estimated discharge (in cubic-feet-per-second), and water\n",
    "temperature (in degrees Celcius), from instruments {site_location_description}, for water years\n",
    "{start_year} to {end_year}. These measurements were taken by Solinst Leveloggers of various models.\n",
    "{noteworthy}.'''"
   ]
  },
  {
   "cell_type": "markdown",
   "id": "1dba0df5",
   "metadata": {},
   "source": [
    "### Location"
   ]
  },
  {
   "cell_type": "code",
   "execution_count": 45,
   "id": "05491a79",
   "metadata": {},
   "outputs": [],
   "source": [
    "location = '''** Location:\n",
    "Tuolumne River Watershed, Yosemite National Park\n",
    "Approximate Coordinates: {approx_coords}\n",
    "Near Lee Vining, California, USA (Tuolumne County)\n",
    "Elevation: {site_elevation_m} m\n",
    "See the Data Citation for more imformation about each site.'''"
   ]
  },
  {
   "cell_type": "markdown",
   "id": "8af7d7c1",
   "metadata": {},
   "source": [
    "### Site History: Important Changes in Site Setup and Missing Data"
   ]
  },
  {
   "cell_type": "code",
   "execution_count": 46,
   "id": "0b3b53d9",
   "metadata": {},
   "outputs": [],
   "source": [
    "site_history = '''** Site History: Important Changes in Site Setup \n",
    "{site_history}\n",
    "'''"
   ]
  },
  {
   "cell_type": "markdown",
   "id": "2eacf18a",
   "metadata": {},
   "source": [
    "### Variables and Units"
   ]
  },
  {
   "cell_type": "code",
   "execution_count": 47,
   "id": "edb8e1ab",
   "metadata": {},
   "outputs": [],
   "source": [
    "variables = '''** Variables and Units:\n",
    "Note: the raw_pressure can either reflect vented or unvented levelogger data (depending on data \n",
    "availability and quality). When available, vented data is preferred to unvented data. To determine\n",
    "which sensor was used at a particular time step, compare the 'raw_pressure(cm)' column to the\n",
    "'barocorrected_pressure(cm)' column. If the two values are the same, the data is from a vented Levelogger.\n",
    "If they differ, the data is from an unvented Levelogger.\n",
    "\n",
    "date_time(UTC:PDT+7)       - time stamp in UTC, in format \"yyyy/mm/dd HH:MM:SS\", midnight = 00:00:00\n",
    "raw_pressure(cm)           - raw data from the logger (either vented or unvented) (cm of water)\n",
    "barocorrected_pressure(cm) - raw Levelogger data minus atmospheric pressure, same as raw when vented\n",
    "                             logger is selected for period (cm of water)\n",
    "adjusted_stage(cm)         - vented or baroccorrected pressure plus offset used to align with manual \n",
    "                             measurements/previous record (cm of water)\n",
    "estimated_discharge(cms)   - calculated using rating curve defined below (cubic-meters-per-second, cms)\n",
    "water_temperature(deg_C)   - raw stream temperature recorded by the Levelogger (degrees Celsius)\n",
    "discharge_flag             - QC flag defined below\n",
    "NaN = no data'''"
   ]
  },
  {
   "cell_type": "markdown",
   "id": "c6104f0d",
   "metadata": {},
   "source": [
    "### Discharge Flags"
   ]
  },
  {
   "cell_type": "code",
   "execution_count": 48,
   "id": "cfe261fb",
   "metadata": {},
   "outputs": [],
   "source": [
    "discharge_flags = '''** Discharge Flags:\n",
    "0 = No detected anomoly, ice jam, or malfunction\n",
    "1 = Anomalous single timestep readings (\"blips\"). Corrected to average of previous and subsequent recording\n",
    "2 = High stage recordings created by ice blocking river flow.\n",
    "3 = Sensor malfunction'''"
   ]
  },
  {
   "cell_type": "markdown",
   "id": "e753e862",
   "metadata": {},
   "source": [
    "### Instruments"
   ]
  },
  {
   "cell_type": "code",
   "execution_count": 49,
   "id": "5e828b95",
   "metadata": {},
   "outputs": [],
   "source": [
    "instruments = '''** Instrument Models:\n",
    "The following instruments are used for vented pressure collection:\n",
    "{vented_instruments}\n",
    "\n",
    "Unvented pressure data is collected using Solinst Leveloggers of several models: Levelogger Edge, Levelogger Gold\n",
    "and Levelogger Junior. See the official documentation for more details:\n",
    "https://www.solinst.com/products/dataloggers-and-telemetry/3001-levelogger-series/operating-instructions/previous-instruction-versions/3001-user-guide-v4-4-0.pdf'''"
   ]
  },
  {
   "cell_type": "markdown",
   "id": "8d408f39",
   "metadata": {},
   "source": [
    "### Rating Curve"
   ]
  },
  {
   "cell_type": "code",
   "execution_count": 50,
   "id": "d1e52c97",
   "metadata": {},
   "outputs": [],
   "source": [
    "rating_curve = '''** Rating Curves:\n",
    "The rating curve equation used to estimate discharge is\n",
    "{rating_curve}\n",
    "\n",
    "Note: The greatest uncertainties occur at very high flows (due to the small number of manual measurements in that\n",
    "range) and at very low flows (due to uncertainty in the gauge datum and the exact water depth above the sensor\n",
    "when discharge stops).'''"
   ]
  },
  {
   "cell_type": "markdown",
   "id": "3c0eebcf",
   "metadata": {},
   "source": [
    "### Post Processing and Quality Control"
   ]
  },
  {
   "cell_type": "code",
   "execution_count": 51,
   "id": "139be900",
   "metadata": {},
   "outputs": [],
   "source": [
    "postprocessing_qc = '''** Data Postprocessing and Quality Control Summary:\n",
    "This file includes raw, corrected, and estimated data. The 'raw_pressure(cm)' data is a temporally-continuous \n",
    "record made up of a number of different loggers deployed through time (generally changed once per summer). \n",
    "The corrected data includes both the 'barocorrected_pressure(cm)' and 'adjusted_stage(cm)' time series, \n",
    "which apply an atmospheric pressure correction and datum correction, respectively. The \n",
    "'estimated_discharge(cms)' time series is an estimate of discharge computed using the 'adjusted_stage(cm)' time series\n",
    "and site rating curve (which is built using manual measurements collected over several summers). \n",
    "The postprocessing includes all the of steps needed to translate the 'raw_pressure(cm)' time series into \n",
    "the 'estimated_discharge(cms)' time series. There is a summary of the steps below. For a comprehensive, \n",
    "thorough view of the post processing, visit the following url, where all steps are documented in Jupyter notebooks:\n",
    "{postprocessing_url}\n",
    "\n",
    "For each site, the following operations were completed:\n",
    "1. Both vented and unvented Levelogger time series were inspected, trimmed (to the segment when the sensor\n",
    "   was actively deployed), converted to appropriate units, and examined for sensor malfunctions, ice jams, \n",
    "   and sensor shifts.\n",
    "2. A barometric pressure correction was applied to the unvented Levelogger time series using colocated Barologger \n",
    "   time series when available and NCAR Reanalysis surface pressure data otherwise. When NCAR Reanalysis data was \n",
    "   used, a hypsometric elevation correction was applied before performing the barometric correction. \n",
    "3. An offset was applied to both vented and barometrically corrected unvented Levelogger time series to convert \n",
    "   to the stage reference datum. Offsets are typically estimated by comparing the 'barocorrected_pressure(cm)' to \n",
    "   previous corrected time series and/or available manual stage measurements. \n",
    "4. For each water year, either the vented or corrected unvented Levelogger time series was selected \n",
    "   (based on data availability and quality) as the stage measurement ('adjusted_stage(cm)')\n",
    "5. Stage time series from consecutive years were concatenated\n",
    "6. Discharge was estimated using the stage time series and documented rating curve.'''"
   ]
  },
  {
   "cell_type": "markdown",
   "id": "26a85ab2",
   "metadata": {},
   "source": [
    "### Data Citation"
   ]
  },
  {
   "cell_type": "code",
   "execution_count": 52,
   "id": "f26d277f",
   "metadata": {},
   "outputs": [],
   "source": [
    "data_citation = '''** Data Citation:\n",
    "Lundquist, J. D., J. W. Roche, H. Forrester, C. Moore, E. Keenan, G. Perry, N. Cristea, B. Henn,\n",
    "K. Lapo, B. McGurk, D. R. Cayan, and M. D. Dettinger (2016), Yosemite hydroclimate network: Distributed\n",
    "stream and atmospheric data for the Tuolumne River watershed and surroundings. Water Resour. Res.,\n",
    "doi:10.1002/2016WR019261'''"
   ]
  },
  {
   "cell_type": "markdown",
   "id": "9c986d01",
   "metadata": {},
   "source": [
    "## Join Sections"
   ]
  },
  {
   "cell_type": "code",
   "execution_count": 53,
   "id": "a6e8febd",
   "metadata": {},
   "outputs": [],
   "source": [
    "sections = [header, \n",
    "            summary, \n",
    "            location, \n",
    "            site_history, \n",
    "            variables, \n",
    "            discharge_flags, \n",
    "            instruments, \n",
    "            rating_curve, \n",
    "            postprocessing_qc, data_citation]\n",
    "\n",
    "meta_data = '\\n\\n\\n'.join(sections)"
   ]
  },
  {
   "cell_type": "markdown",
   "id": "5750b053",
   "metadata": {},
   "source": [
    "## Generate Metadata for each output dataset"
   ]
  },
  {
   "cell_type": "markdown",
   "id": "e87c118e",
   "metadata": {},
   "source": [
    "### Global Variables"
   ]
  },
  {
   "cell_type": "code",
   "execution_count": 54,
   "id": "bc4b439a",
   "metadata": {},
   "outputs": [],
   "source": [
    "POSTPROCESSING_URL = ''\n",
    "UPDATE_DATE = 'August 24, 2022'"
   ]
  },
  {
   "cell_type": "markdown",
   "id": "89950e1a",
   "metadata": {},
   "source": [
    "### Lyell Below Maclure"
   ]
  },
  {
   "cell_type": "code",
   "execution_count": 55,
   "id": "2ff78a13",
   "metadata": {},
   "outputs": [],
   "source": [
    "LyellBlwMaclure_specs = {'site_code' : 0,\n",
    "                         'time_series_fn' : 'LyellBlwMaclure_timeseries_stage_Q_T_2004_2021.csv',\n",
    "                         'verbose_name' : 'Lyell Fork of Tuolumne River below confluence with Maclure Creek',\n",
    "                         'site_location_description' : 'located downstream of the footbridge crossing the\\nLyell Fork of the Tuolumne River, downstream of the confluence with Maclure Creek,\\nin Yosemite National Park',\n",
    "                         'start_year' : '2004',\n",
    "                         'end_year' : '2021',\n",
    "                         'noteworthy' : 'Water year 2008 is missing due to a failed instrument.',\n",
    "                         'approx_coords' : '37.77778 N, 119.26139 W (datum: NAD 83)',\n",
    "                         'site_elevation_m' : '2947',\n",
    "                         'site_history' : '''- Water year 2008 is missing due to a failed instrument.\n",
    "- Starting late in water year 2012, a vented pressure transducer was also installed at the site.\n",
    "- The channel cross-section is not believed to have changed during the period of record.\n",
    "- Our corrected pressure, with associated offsets, is referenced to the 10 minus tape down from the 2015\n",
    "  bolt (most recent operational practice), in units of ft. (long history before that)''',\n",
    "                         'vented_instruments' : '''(as of 2015)\n",
    "Campbell Scientific CR1000 Datalogger  SN:7519 HIF # 130889-Stock #5203013\n",
    "Campbell Scientific CS450-L P.T. SN:70010535 25ft cable\n",
    "Campbell Scientific CS547A-L Sp. Cond. SN:6181 30’ cable Kc:1.411''',\n",
    "                         'rating_curve' : '''for H < 2.29893m, Q = 20.114*(H-2.1167)^1.70046\n",
    "for H > 2.29893m, Q = 5.08516*(H-0.1.93825)^1.49088'''}"
   ]
  },
  {
   "cell_type": "markdown",
   "id": "3985faf7",
   "metadata": {},
   "source": [
    "### Lyell Above Twin Bridges"
   ]
  },
  {
   "cell_type": "code",
   "execution_count": 56,
   "id": "e1f3414f",
   "metadata": {},
   "outputs": [],
   "source": [
    "LyellAbvTB_specs = {'site_code' : 1,\n",
    "                    'time_series_fn' : 'LyellAbvTB_timeseries_stage_Q_T_2005_2021.csv',\n",
    "                    'verbose_name' : 'Lyell Fork of the Tuolumne River near the twin bridges on the Pacific Crest Trail near Tuolumne Meadows',\n",
    "                    'site_location_description' : 'located on the Lyell Fork of the Tuolumne River both upstream\\nand downstream of the twin bridges on the Pacific Crest Trail near Tuolumne Meadows,\\nYosemite National Park',\n",
    "                    'start_year' : '2005',\n",
    "                    'end_year' : '2021',\n",
    "                    'noteworthy' : '',\n",
    "                    'approx_coords' : '37.86948 N, 119.33110 W (datum: NAD 83)',\n",
    "                    'site_elevation_m' : '',\n",
    "                    'site_history' : '''- Previously, both a downstream and upstream site were maintained. This dataset only includes\n",
    "  data from the upstream site; however, further data for the downstream site is available (if desired)\n",
    "- Previously, no quality staff plate or datum existed for this location, so the barocorrected instrument-recorded\n",
    "  stage was considered the stage of record and manual measurements of stage were not used as part of gaugings\n",
    "  to determine rating curves. \n",
    "- During summer 2015, a benchmark bolt was installed. Following the installation of the new benchmark, the top\n",
    "  of the stilling tube was used for measuring stage.\n",
    "- Unvented data for 2019 and 2020 was barometrically corrected using NCAR Reanalysis surface pressure\n",
    "  since no adequate Barologger record was present.\n",
    "- The channel cross-section is not believed to have changed between the start of the record and 2018. \n",
    "  In the subsequent years channel-bank erosion has been observed.''',\n",
    "                    'vented_instruments' : '',\n",
    "                    'rating_curve' : '''for H < 0.545617m, Q = 13.0679*(H-0.189547)^1.53746\n",
    "for 0.545617m < H < 0.786625m, Q = 32.3266*(H-0.3171)^1.68957\n",
    "for 0.786625m < H, Q = 34.0175*(H-0.3297)^1.69602'''}"
   ]
  },
  {
   "cell_type": "markdown",
   "id": "bbc8131e",
   "metadata": {},
   "source": [
    "### Dana Fork at Bug Camp"
   ]
  },
  {
   "cell_type": "code",
   "execution_count": 57,
   "id": "ee7f02f6",
   "metadata": {},
   "outputs": [],
   "source": [
    "DanaFkBug_specs = {'site_code' : 2,\n",
    "                   'time_series_fn' : 'DanaFk@BugCamp_timeseries_stage_Q_T_2005_2021.csv',\n",
    "                   'verbose_name' : 'Dana Fork of the Tuolumne River near Bug Camp and the Dog Lake Parking Lot near Tuolumne Meadows',\n",
    "                   'site_location_description' : 'located on the Dana Fork of the Tuolumne River near the\\nPacific Crest Trail near Tuolumne Meadows,\\nYosemite National Park',\n",
    "                   'start_year' : '2005',\n",
    "                   'end_year' : '2021',\n",
    "                   'noteworthy' : '',\n",
    "                   'approx_coords' : '37.877 N, 119.338 W (datum: NAD 83)',\n",
    "                   'site_elevation_m' : '',\n",
    "                   'site_history' : '''- Staff plate gage installed 2012\n",
    "- CR1000 & CS450 P.T install: 6/26/2014\n",
    "- Bolt benchmark install: 7/16/2015\n",
    "- In 2019 staff plate washed away; used tapedown bolt instead\n",
    "- Staff plate replaced at end of 2019, used for all subsequent measurements\n",
    "- Unvented data for 2019 was barometrically corrected using NCAR Reanalysis surface pressure\n",
    "  since no adequate Barologger record was present\n",
    "- Water year 2020 missing data (vented sensor malfunction, not able to retrieve unvented data)\n",
    "- The channel cross-section is not believed to have changed during the period of record.\n",
    "''',\n",
    "                   'vented_instruments' : '''(starting in 2014)\n",
    "Campbell Scientific CR1000 Datalogger\n",
    "Campbell Scientific CS450-L P.T.\n",
    "(starting in 2018)\n",
    "Campbell Scientific CR800 Datalogger''',\n",
    "                   'rating_curve' : '''for H < 0.354118m, Q = 9.81848*(H-0.218727)^1.48825\n",
    "for 0.354118m < H < 0.904318m, Q = 34.8425*(H-0.2816)^1.61522\n",
    "for 0.904318m < H, Q = 66.8344*(H-0.4724)^1.68704'''}"
   ]
  },
  {
   "cell_type": "markdown",
   "id": "a6dd5390",
   "metadata": {},
   "source": [
    "### Tuolumne River at 120"
   ]
  },
  {
   "cell_type": "code",
   "execution_count": 58,
   "id": "479e03f2",
   "metadata": {},
   "outputs": [],
   "source": [
    "TuolumneAt120 = {'site_code' : 3,\n",
    "                 'time_series_fn' : 'Tuolumne@120_timeseries_stage_Q_T_2001_2021.csv',\n",
    "                 'verbose_name' : 'Tuolumne River where it passes under Highway 120',\n",
    "                 'site_location_description' : 'located on Tuolumne River where it passes under\\nHighway 120 in Tuolumne Meadows,\\nYosemite National Park',\n",
    "                 'start_year' : '2001',\n",
    "                 'end_year' : '2021',\n",
    "                 'noteworthy' : '',\n",
    "                 'approx_coords' : '37.87629 N, 119.35475 W (datum: NAD 83)',\n",
    "                 'site_elevation_m' : '',\n",
    "                 'site_history' : '''- Staff plate installed in 2006\n",
    "- CR1000 & CS450 P.T installed 10/10/2012\n",
    "- 6/25/19 it was observed the bottom portion of staff plate ripped off; the staff plate was replaced and resurveyed\n",
    "- The record is believed to be stable through the present. It is expected the site will be temporarily uninstalled (and reinstalled) during late summer 2022 for construction on the Tioga Bridge\n",
    "''',\n",
    "                 'vented_instruments' : '''(starting in 2012)\n",
    "Campbell Scientific CR1000 Datalogger\n",
    "Campbell Scientific CS450-L P.T.''',\n",
    "                 'rating_curve' : '''for H < 0.8011m, Q = 34.3522*(H-0.7639)^1.465\n",
    "for H > 0.8011m, Q = 17.0873(H-0.7076)^1.7401'''}"
   ]
  },
  {
   "cell_type": "markdown",
   "id": "7e9e852a",
   "metadata": {},
   "source": [
    "### Create metadata files"
   ]
  },
  {
   "cell_type": "code",
   "execution_count": 59,
   "id": "6fa4d25a",
   "metadata": {},
   "outputs": [],
   "source": [
    "def write_metadata(site_spec):\n",
    "    metadata_text = meta_data.format(time_series_fn=site_spec['time_series_fn'],\n",
    "                                     update_date=UPDATE_DATE, \n",
    "                                     verbose_name=site_spec['verbose_name'],\n",
    "                                     site_location_description=site_spec['site_location_description'], \n",
    "                                     start_year=site_spec['start_year'], \n",
    "                                     end_year=site_spec['end_year'],\n",
    "                                     noteworthy=site_spec['noteworthy'], \n",
    "                                     approx_coords=site_spec['approx_coords'], \n",
    "                                     site_elevation_m=site_spec['site_elevation_m'],\n",
    "                                     site_history=site_spec['site_history'], \n",
    "                                     postprocessing_url=POSTPROCESSING_URL,\n",
    "                                     vented_instruments=site_spec['vented_instruments'],\n",
    "                                     rating_curve=site_spec['rating_curve'])\n",
    "    \n",
    "    fn = config.FINAL_OUTPUT_METADATA_FN.format(site=config.SITE_SHORTNAME[site_spec['site_code']],\n",
    "                                                start=site_spec['start_year'], \n",
    "                                                end=site_spec['end_year'])\n",
    "    path = os.path.join('..', 'metadata', fn)\n",
    "    \n",
    "    f = open(path, 'w')\n",
    "    f.write(metadata_text)\n",
    "    f.close()"
   ]
  },
  {
   "cell_type": "code",
   "execution_count": 60,
   "id": "03d0253b",
   "metadata": {},
   "outputs": [],
   "source": [
    "site_specs = [LyellBlwMaclure_specs, LyellAbvTB_specs, DanaFkBug_specs, TuolumneAt120]\n",
    "\n",
    "for site_spec in site_specs:\n",
    "    write_metadata(site_spec)"
   ]
  },
  {
   "cell_type": "code",
   "execution_count": null,
   "id": "c1bfe519",
   "metadata": {},
   "outputs": [],
   "source": []
  }
 ],
 "metadata": {
  "kernelspec": {
   "display_name": "Python 3",
   "language": "python",
   "name": "python3"
  },
  "language_info": {
   "codemirror_mode": {
    "name": "ipython",
    "version": 3
   },
   "file_extension": ".py",
   "mimetype": "text/x-python",
   "name": "python",
   "nbconvert_exporter": "python",
   "pygments_lexer": "ipython3",
   "version": "3.9.5"
  }
 },
 "nbformat": 4,
 "nbformat_minor": 5
}
